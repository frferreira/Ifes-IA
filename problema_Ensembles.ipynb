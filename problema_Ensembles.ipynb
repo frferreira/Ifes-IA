{
 "cells": [
  {
   "cell_type": "code",
   "execution_count": 1,
   "metadata": {},
   "outputs": [
    {
     "name": "stdout",
     "output_type": "stream",
     "text": [
      "downloading Olivetti faces from https://ndownloader.figshare.com/files/5976027 to C:\\Users\\frfer\\scikit_learn_data\n"
     ]
    },
    {
     "data": {
      "text/plain": [
       "((400, 4096), (400,))"
      ]
     },
     "execution_count": 1,
     "metadata": {},
     "output_type": "execute_result"
    }
   ],
   "source": [
    "from sklearn.datasets import fetch_olivetti_faces\n",
    "X, y = fetch_olivetti_faces(return_X_y=True)\n",
    "X.shape, y.shape"
   ]
  },
  {
   "cell_type": "code",
   "execution_count": 2,
   "metadata": {},
   "outputs": [
    {
     "data": {
      "text/plain": [
       "((300, 4096), (100, 4096), (300,), (100,))"
      ]
     },
     "execution_count": 2,
     "metadata": {},
     "output_type": "execute_result"
    }
   ],
   "source": [
    "from sklearn.model_selection import train_test_split\n",
    "Xtr, Xte, ytr, yte = train_test_split(X, y, random_state=42)\n",
    "Xtr.shape, Xte.shape, ytr.shape, yte.shape"
   ]
  },
  {
   "cell_type": "code",
   "execution_count": 3,
   "metadata": {},
   "outputs": [
    {
     "data": {
      "text/plain": [
       "(array([ True,  True,  True,  True,  True,  True,  True,  True,  True,\n",
       "         True,  True,  True,  True,  True,  True,  True, False,  True,\n",
       "         True,  True,  True,  True, False, False,  True, False,  True,\n",
       "         True,  True,  True, False, False,  True,  True, False,  True,\n",
       "        False, False,  True,  True,  True,  True,  True,  True,  True,\n",
       "        False,  True,  True,  True,  True,  True,  True,  True,  True,\n",
       "         True,  True,  True,  True,  True, False,  True,  True,  True,\n",
       "        False,  True, False,  True,  True, False,  True,  True,  True,\n",
       "        False,  True,  True,  True,  True,  True,  True,  True, False,\n",
       "         True,  True,  True,  True,  True,  True,  True,  True,  True,\n",
       "         True,  True,  True,  True,  True,  True,  True,  True,  True,\n",
       "        False]),\n",
       " 0.83)"
      ]
     },
     "execution_count": 3,
     "metadata": {},
     "output_type": "execute_result"
    }
   ],
   "source": [
    "#classificador KNN \n",
    "from sklearn.neighbors import KNeighborsClassifier\n",
    "modelo = KNeighborsClassifier()\n",
    "modelo.fit(Xtr, ytr)\n",
    "knn_pred = modelo.predict(Xte)\n",
    "knn_hits = knn_pred == yte\n",
    "knn_hits, sum(knn_hits)/len(knn_hits)"
   ]
  },
  {
   "cell_type": "code",
   "execution_count": 4,
   "metadata": {},
   "outputs": [
    {
     "data": {
      "text/plain": [
       "(array([ True,  True,  True,  True,  True,  True,  True,  True,  True,\n",
       "        False,  True,  True,  True, False,  True, False,  True,  True,\n",
       "         True,  True, False,  True,  True,  True,  True,  True,  True,\n",
       "         True,  True, False,  True,  True,  True,  True,  True,  True,\n",
       "        False,  True,  True,  True,  True,  True, False,  True,  True,\n",
       "         True,  True,  True,  True, False,  True,  True,  True, False,\n",
       "         True,  True,  True,  True,  True,  True,  True,  True, False,\n",
       "        False,  True,  True,  True, False,  True, False,  True,  True,\n",
       "        False,  True,  True,  True,  True,  True, False,  True, False,\n",
       "         True,  True,  True,  True,  True,  True,  True, False,  True,\n",
       "         True,  True,  True,  True, False,  True,  True,  True,  True,\n",
       "        False]),\n",
       " 0.81)"
      ]
     },
     "execution_count": 4,
     "metadata": {},
     "output_type": "execute_result"
    }
   ],
   "source": [
    "#classificador naives_bayes \n",
    "from sklearn.naive_bayes import GaussianNB\n",
    "modelo = GaussianNB()\n",
    "modelo.fit(Xtr, ytr)\n",
    "gnb_pred = modelo.predict(Xte)\n",
    "gnb_hits = gnb_pred == yte\n",
    "gnb_hits, sum(gnb_hits)/len(gnb_hits)"
   ]
  },
  {
   "cell_type": "code",
   "execution_count": 5,
   "metadata": {},
   "outputs": [
    {
     "data": {
      "text/plain": [
       "(array([ True,  True,  True,  True,  True,  True,  True,  True,  True,\n",
       "        False,  True,  True, False,  True,  True, False, False,  True,\n",
       "         True,  True,  True,  True,  True, False,  True,  True,  True,\n",
       "         True,  True,  True,  True,  True,  True, False,  True,  True,\n",
       "         True,  True,  True,  True,  True, False,  True, False,  True,\n",
       "        False,  True,  True,  True,  True, False,  True,  True,  True,\n",
       "         True, False,  True,  True,  True,  True, False,  True,  True,\n",
       "        False,  True,  True,  True, False,  True,  True,  True,  True,\n",
       "        False, False,  True,  True,  True,  True, False,  True, False,\n",
       "         True, False,  True,  True,  True,  True,  True,  True,  True,\n",
       "         True,  True,  True, False,  True,  True, False,  True,  True,\n",
       "        False]),\n",
       " 0.78)"
      ]
     },
     "execution_count": 5,
     "metadata": {},
     "output_type": "execute_result"
    }
   ],
   "source": [
    "#classificador perceptron \n",
    "from sklearn.linear_model import Perceptron\n",
    "modelo = Perceptron()\n",
    "modelo.fit(Xtr, ytr)\n",
    "per_pred = modelo.predict(Xte)\n",
    "per_hits = per_pred == yte\n",
    "per_hits, sum(per_hits)/len(per_hits)"
   ]
  },
  {
   "cell_type": "code",
   "execution_count": 6,
   "metadata": {},
   "outputs": [
    {
     "data": {
      "text/plain": [
       "array([[ True,  True,  True],\n",
       "       [ True,  True,  True],\n",
       "       [ True,  True,  True],\n",
       "       [ True,  True,  True],\n",
       "       [ True,  True,  True],\n",
       "       [ True,  True,  True],\n",
       "       [ True,  True,  True],\n",
       "       [ True,  True,  True],\n",
       "       [ True,  True,  True],\n",
       "       [ True, False, False],\n",
       "       [ True,  True,  True],\n",
       "       [ True,  True,  True],\n",
       "       [ True,  True, False],\n",
       "       [ True, False,  True],\n",
       "       [ True,  True,  True],\n",
       "       [ True, False, False],\n",
       "       [False,  True, False],\n",
       "       [ True,  True,  True],\n",
       "       [ True,  True,  True],\n",
       "       [ True,  True,  True],\n",
       "       [ True, False,  True],\n",
       "       [ True,  True,  True],\n",
       "       [False,  True,  True],\n",
       "       [False,  True, False],\n",
       "       [ True,  True,  True],\n",
       "       [False,  True,  True],\n",
       "       [ True,  True,  True],\n",
       "       [ True,  True,  True],\n",
       "       [ True,  True,  True],\n",
       "       [ True, False,  True],\n",
       "       [False,  True,  True],\n",
       "       [False,  True,  True],\n",
       "       [ True,  True,  True],\n",
       "       [ True,  True, False],\n",
       "       [False,  True,  True],\n",
       "       [ True,  True,  True],\n",
       "       [False, False,  True],\n",
       "       [False,  True,  True],\n",
       "       [ True,  True,  True],\n",
       "       [ True,  True,  True],\n",
       "       [ True,  True,  True],\n",
       "       [ True,  True, False],\n",
       "       [ True, False,  True],\n",
       "       [ True,  True, False],\n",
       "       [ True,  True,  True],\n",
       "       [False,  True, False],\n",
       "       [ True,  True,  True],\n",
       "       [ True,  True,  True],\n",
       "       [ True,  True,  True],\n",
       "       [ True, False,  True],\n",
       "       [ True,  True, False],\n",
       "       [ True,  True,  True],\n",
       "       [ True,  True,  True],\n",
       "       [ True, False,  True],\n",
       "       [ True,  True,  True],\n",
       "       [ True,  True, False],\n",
       "       [ True,  True,  True],\n",
       "       [ True,  True,  True],\n",
       "       [ True,  True,  True],\n",
       "       [False,  True,  True],\n",
       "       [ True,  True, False],\n",
       "       [ True,  True,  True],\n",
       "       [ True, False,  True],\n",
       "       [False, False, False],\n",
       "       [ True,  True,  True],\n",
       "       [False,  True,  True],\n",
       "       [ True,  True,  True],\n",
       "       [ True, False, False],\n",
       "       [False,  True,  True],\n",
       "       [ True, False,  True],\n",
       "       [ True,  True,  True],\n",
       "       [ True,  True,  True],\n",
       "       [False, False, False],\n",
       "       [ True,  True, False],\n",
       "       [ True,  True,  True],\n",
       "       [ True,  True,  True],\n",
       "       [ True,  True,  True],\n",
       "       [ True,  True,  True],\n",
       "       [ True, False, False],\n",
       "       [ True,  True,  True],\n",
       "       [False, False, False],\n",
       "       [ True,  True,  True],\n",
       "       [ True,  True, False],\n",
       "       [ True,  True,  True],\n",
       "       [ True,  True,  True],\n",
       "       [ True,  True,  True],\n",
       "       [ True,  True,  True],\n",
       "       [ True,  True,  True],\n",
       "       [ True, False,  True],\n",
       "       [ True,  True,  True],\n",
       "       [ True,  True,  True],\n",
       "       [ True,  True,  True],\n",
       "       [ True,  True,  True],\n",
       "       [ True,  True, False],\n",
       "       [ True, False,  True],\n",
       "       [ True,  True,  True],\n",
       "       [ True,  True, False],\n",
       "       [ True,  True,  True],\n",
       "       [ True,  True,  True],\n",
       "       [False, False, False]])"
      ]
     },
     "execution_count": 6,
     "metadata": {},
     "output_type": "execute_result"
    }
   ],
   "source": [
    "#comparando so classificadores e vendo onde eles divergem\n",
    "import numpy as np\n",
    "hits = np.stack((knn_hits, gnb_hits, per_hits))\n",
    "hits.T"
   ]
  },
  {
   "cell_type": "code",
   "execution_count": 7,
   "metadata": {},
   "outputs": [
    {
     "data": {
      "text/plain": [
       "array([[20, 20, 20],\n",
       "       [28, 28, 28],\n",
       "       [ 3,  3,  3],\n",
       "       [21, 21, 21],\n",
       "       [ 9,  9,  9],\n",
       "       [ 8,  8,  8],\n",
       "       [32, 32, 32],\n",
       "       [ 9,  9,  9],\n",
       "       [26, 26, 26],\n",
       "       [12, 16, 28],\n",
       "       [ 0,  0,  0],\n",
       "       [36, 36, 36],\n",
       "       [ 5,  5,  8],\n",
       "       [ 7, 15,  7],\n",
       "       [13, 13, 13],\n",
       "       [ 4, 34, 29],\n",
       "       [25, 27, 25],\n",
       "       [37, 37, 37],\n",
       "       [23, 23, 23],\n",
       "       [38, 38, 38],\n",
       "       [ 7, 15,  7],\n",
       "       [ 1,  1,  1],\n",
       "       [ 4, 39, 39],\n",
       "       [25, 27, 25],\n",
       "       [ 0,  0,  0],\n",
       "       [ 3, 39, 39],\n",
       "       [11, 11, 11],\n",
       "       [22, 22, 22],\n",
       "       [26, 26, 26],\n",
       "       [10, 15, 10],\n",
       "       [29, 39, 39],\n",
       "       [29, 19, 19],\n",
       "       [26, 26, 26],\n",
       "       [ 5,  5, 29],\n",
       "       [20, 23, 23],\n",
       "       [11, 11, 11],\n",
       "       [12, 39, 11],\n",
       "       [20, 34, 34],\n",
       "       [15, 15, 15],\n",
       "       [14, 14, 14],\n",
       "       [38, 38, 38],\n",
       "       [ 5,  5, 29],\n",
       "       [ 7,  9,  7],\n",
       "       [ 2,  2, 36],\n",
       "       [ 8,  8,  8],\n",
       "       [28, 38, 28],\n",
       "       [14, 14, 14],\n",
       "       [18, 18, 18],\n",
       "       [ 2,  2,  2],\n",
       "       [17, 39, 17],\n",
       "       [ 4,  4, 39],\n",
       "       [32, 32, 32],\n",
       "       [33, 33, 33],\n",
       "       [ 7,  9,  7],\n",
       "       [37, 37, 37],\n",
       "       [ 3,  3,  1],\n",
       "       [22, 22, 22],\n",
       "       [17, 17, 17],\n",
       "       [ 3,  3,  3],\n",
       "       [ 0, 15, 15],\n",
       "       [12, 12, 36],\n",
       "       [29, 29, 29],\n",
       "       [25, 16, 25],\n",
       "       [17, 35, 28],\n",
       "       [10, 10, 10],\n",
       "       [14,  3,  3],\n",
       "       [35, 35, 35],\n",
       "       [26, 12,  1],\n",
       "       [37, 39, 39],\n",
       "       [ 7,  9,  7],\n",
       "       [32, 32, 32],\n",
       "       [14, 14, 14],\n",
       "       [ 3, 35, 20],\n",
       "       [ 4,  4,  8],\n",
       "       [38, 38, 38],\n",
       "       [24, 24, 24],\n",
       "       [22, 22, 22],\n",
       "       [36, 36, 36],\n",
       "       [17,  9, 28],\n",
       "       [28, 28, 28],\n",
       "       [16, 16, 20],\n",
       "       [ 1,  1,  1],\n",
       "       [20, 20,  8],\n",
       "       [25, 25, 25],\n",
       "       [27, 27, 27],\n",
       "       [ 6,  6,  6],\n",
       "       [24, 24, 24],\n",
       "       [30, 30, 30],\n",
       "       [10, 15, 10],\n",
       "       [ 9,  9,  9],\n",
       "       [23, 23, 23],\n",
       "       [33, 33, 33],\n",
       "       [11, 11, 11],\n",
       "       [22, 22,  8],\n",
       "       [18, 25, 18],\n",
       "       [31, 31, 31],\n",
       "       [37, 37, 39],\n",
       "       [38, 38, 38],\n",
       "       [23, 23, 23],\n",
       "       [17,  9, 18]])"
      ]
     },
     "execution_count": 7,
     "metadata": {},
     "output_type": "execute_result"
    }
   ],
   "source": [
    "#comparando onde os rotulos divergem \n",
    "ypred = np.stack((knn_pred, gnb_pred, per_pred))\n",
    "ypred.T"
   ]
  },
  {
   "cell_type": "code",
   "execution_count": 8,
   "metadata": {},
   "outputs": [
    {
     "name": "stderr",
     "output_type": "stream",
     "text": [
      "C:\\Users\\frfer\\AppData\\Local\\Temp\\ipykernel_6808\\2547197360.py:3: FutureWarning: Unlike other reduction functions (e.g. `skew`, `kurtosis`), the default behavior of `mode` typically preserves the axis it acts along. In SciPy 1.11.0, this behavior will change: the default value of `keepdims` will become False, the `axis` over which the statistic is taken will be eliminated, and the value None will no longer be accepted. Set `keepdims` to True or False to avoid this warning.\n",
      "  vote_pred = stats.mode(ypred)[0][0]\n"
     ]
    },
    {
     "data": {
      "text/plain": [
       "(array([ True,  True,  True,  True,  True,  True,  True,  True,  True,\n",
       "         True,  True,  True,  True,  True,  True,  True, False,  True,\n",
       "         True,  True,  True,  True,  True, False,  True,  True,  True,\n",
       "         True,  True,  True,  True,  True,  True,  True,  True,  True,\n",
       "         True,  True,  True,  True,  True,  True,  True,  True,  True,\n",
       "        False,  True,  True,  True,  True,  True,  True,  True,  True,\n",
       "         True,  True,  True,  True,  True,  True,  True,  True,  True,\n",
       "        False,  True,  True,  True, False,  True,  True,  True,  True,\n",
       "        False,  True,  True,  True,  True,  True, False,  True, False,\n",
       "         True,  True,  True,  True,  True,  True,  True,  True,  True,\n",
       "         True,  True,  True,  True,  True,  True,  True,  True,  True,\n",
       "        False]),\n",
       " 0.91)"
      ]
     },
     "execution_count": 8,
     "metadata": {},
     "output_type": "execute_result"
    }
   ],
   "source": [
    "#combinando os classificadores vendo  a estatistica, usando a moda e o knn como referencia \n",
    "from scipy import stats\n",
    "vote_pred = stats.mode(ypred)[0][0]\n",
    "vote_hits = vote_pred == yte\n",
    "vote_hits, sum(vote_hits)/len(vote_hits)"
   ]
  },
  {
   "cell_type": "code",
   "execution_count": 9,
   "metadata": {},
   "outputs": [
    {
     "data": {
      "text/plain": [
       "(array([ True,  True,  True,  True,  True,  True,  True,  True,  True,\n",
       "         True,  True,  True,  True,  True,  True,  True, False,  True,\n",
       "         True,  True,  True,  True,  True, False,  True,  True,  True,\n",
       "         True,  True,  True,  True,  True,  True,  True,  True,  True,\n",
       "         True,  True,  True,  True,  True,  True,  True,  True,  True,\n",
       "        False,  True,  True,  True,  True,  True,  True,  True,  True,\n",
       "         True,  True,  True,  True,  True,  True,  True,  True,  True,\n",
       "        False,  True,  True,  True, False,  True,  True,  True,  True,\n",
       "        False,  True,  True,  True,  True,  True, False,  True, False,\n",
       "         True,  True,  True,  True,  True,  True,  True,  True,  True,\n",
       "         True,  True,  True,  True,  True,  True,  True,  True,  True,\n",
       "        False]),\n",
       " 0.91)"
      ]
     },
     "execution_count": 9,
     "metadata": {},
     "output_type": "execute_result"
    }
   ],
   "source": [
    "# usando a combinação dos classificadores pelo rotulo \n",
    "\n",
    "from sklearn.ensemble import VotingClassifier\n",
    "#passando os classificadores como parametros, parecido com o pipeline\n",
    "modelo = VotingClassifier([\n",
    "    ('knn', KNeighborsClassifier()),\n",
    "    ('gnb', GaussianNB()),\n",
    "    ('per', Perceptron())\n",
    "])\n",
    "modelo.fit(Xtr, ytr)\n",
    "vote_pred = modelo.predict(Xte)\n",
    "vote_hits = vote_pred == yte\n",
    "vote_hits, sum(vote_hits)/len(vote_hits)"
   ]
  },
  {
   "cell_type": "code",
   "execution_count": 10,
   "metadata": {},
   "outputs": [
    {
     "data": {
      "text/plain": [
       "(array([False,  True,  True,  True,  True, False,  True,  True,  True,\n",
       "        False, False,  True,  True, False, False, False, False, False,\n",
       "        False, False,  True, False, False, False,  True, False, False,\n",
       "        False,  True, False, False,  True, False, False, False, False,\n",
       "        False, False,  True, False, False,  True, False,  True, False,\n",
       "        False,  True,  True,  True,  True, False,  True,  True, False,\n",
       "         True, False, False, False, False,  True,  True,  True, False,\n",
       "        False, False,  True,  True, False, False, False, False, False,\n",
       "        False, False,  True,  True,  True, False, False,  True, False,\n",
       "        False,  True,  True, False, False,  True, False, False,  True,\n",
       "         True,  True, False,  True,  True,  True, False, False, False,\n",
       "        False]),\n",
       " 0.41)"
      ]
     },
     "execution_count": 10,
     "metadata": {},
     "output_type": "execute_result"
    }
   ],
   "source": [
    "#incluindo uma arvore de decisão \n",
    "from sklearn.tree import DecisionTreeClassifier\n",
    "modelo = DecisionTreeClassifier()\n",
    "modelo.fit(Xtr, ytr)\n",
    "dtc_pred = modelo.predict(Xte)\n",
    "dtc_hits = dtc_pred == yte\n",
    "dtc_hits, sum(dtc_hits)/len(dtc_hits)\n",
    "\n",
    "#classificação ruim com 40% de acuracia "
   ]
  },
  {
   "cell_type": "code",
   "execution_count": 11,
   "metadata": {},
   "outputs": [
    {
     "data": {
      "text/plain": [
       "(array([ True,  True,  True,  True,  True,  True,  True,  True,  True,\n",
       "        False,  True,  True,  True,  True,  True, False, False,  True,\n",
       "         True,  True,  True,  True, False, False,  True, False,  True,\n",
       "         True,  True,  True, False,  True,  True,  True, False,  True,\n",
       "        False, False,  True,  True,  True,  True,  True,  True,  True,\n",
       "        False,  True,  True,  True,  True,  True,  True,  True,  True,\n",
       "         True,  True,  True,  True,  True,  True,  True,  True, False,\n",
       "        False,  True,  True,  True, False, False,  True,  True,  True,\n",
       "        False,  True,  True,  True,  True,  True, False,  True, False,\n",
       "         True,  True,  True,  True,  True,  True,  True,  True,  True,\n",
       "         True,  True,  True,  True,  True,  True,  True,  True,  True,\n",
       "        False]),\n",
       " 0.81)"
      ]
     },
     "execution_count": 11,
     "metadata": {},
     "output_type": "execute_result"
    }
   ],
   "source": [
    "#juntando o classificador knn , NG e a arvore \n",
    "from sklearn.ensemble import VotingClassifier\n",
    "modelo = VotingClassifier([\n",
    "    ('knn', KNeighborsClassifier()),\n",
    "    ('gnb', GaussianNB()),\n",
    "    ('dtc', DecisionTreeClassifier())\n",
    "])\n",
    "modelo.fit(Xtr, ytr)\n",
    "vote_pred = modelo.predict(Xte)\n",
    "vote_hits = vote_pred == yte\n",
    "vote_hits, sum(vote_hits)/len(vote_hits)"
   ]
  },
  {
   "cell_type": "code",
   "execution_count": 16,
   "metadata": {},
   "outputs": [
    {
     "data": {
      "text/plain": [
       "(array([ True,  True,  True,  True,  True,  True,  True,  True,  True,\n",
       "         True,  True,  True,  True,  True,  True,  True, False,  True,\n",
       "         True,  True,  True,  True,  True,  True,  True,  True,  True,\n",
       "         True,  True,  True,  True,  True,  True,  True,  True,  True,\n",
       "        False,  True,  True,  True, False,  True, False,  True,  True,\n",
       "         True,  True,  True,  True,  True, False,  True,  True, False,\n",
       "         True,  True,  True,  True,  True,  True,  True,  True, False,\n",
       "        False,  True,  True,  True,  True, False, False,  True,  True,\n",
       "        False,  True,  True,  True,  True,  True,  True,  True, False,\n",
       "         True,  True,  True,  True,  True,  True,  True,  True,  True,\n",
       "         True,  True,  True,  True,  True,  True,  True,  True,  True,\n",
       "         True]),\n",
       " 0.88)"
      ]
     },
     "execution_count": 16,
     "metadata": {},
     "output_type": "execute_result"
    }
   ],
   "source": [
    "#aumentando a alheatoriedade para aumentar a diversidade, ramdon fixo em 42 e estimadores igual a 10\n",
    "\n",
    "from sklearn.ensemble import RandomForestClassifier\n",
    "modelo = RandomForestClassifier(random_state=42)\n",
    "modelo.fit(Xtr, ytr)\n",
    "rfc_pred = modelo.predict(Xte)\n",
    "rfc_hits = rfc_pred == yte\n",
    "rfc_hits, sum(rfc_hits)/len(rfc_hits)"
   ]
  },
  {
   "cell_type": "code",
   "execution_count": 14,
   "metadata": {},
   "outputs": [
    {
     "data": {
      "text/plain": [
       "(array([ True,  True,  True,  True,  True,  True,  True,  True,  True,\n",
       "         True,  True,  True,  True,  True,  True,  True, False,  True,\n",
       "         True,  True,  True,  True,  True,  True,  True,  True,  True,\n",
       "         True,  True,  True,  True,  True,  True,  True,  True,  True,\n",
       "         True,  True,  True,  True, False,  True,  True,  True,  True,\n",
       "         True,  True,  True,  True,  True,  True,  True,  True,  True,\n",
       "         True,  True, False,  True,  True,  True,  True,  True, False,\n",
       "        False,  True,  True,  True,  True,  True,  True,  True,  True,\n",
       "         True,  True,  True,  True,  True,  True,  True,  True, False,\n",
       "         True,  True,  True,  True,  True,  True,  True,  True,  True,\n",
       "         True,  True,  True,  True,  True,  True,  True,  True,  True,\n",
       "         True]),\n",
       " 0.94)"
      ]
     },
     "execution_count": 14,
     "metadata": {},
     "output_type": "execute_result"
    }
   ],
   "source": [
    "#diversificando a Amostragem para gerar um novos resultados com 10 arvores de reamostragem \n",
    "#neste caso estamos usando 100 arvores como amostragem\n",
    "#o bagging só melhora se a o classificador que tiver for melhor que o alheatorio\n",
    "\n",
    "\n",
    "#aumentando a alheatoriedade para aumentar a diversidade  splliter = random, tornando alheatorio\n",
    "#mudando o estimadores de 10 (padrão) para 100\n",
    "#Baggin regularizado limitando o número de feacture, onde em cada arvore ele usa 15% de caracteristica\n",
    "\n",
    "\n",
    "from sklearn.ensemble import BaggingClassifier\n",
    "modelo = BaggingClassifier(DecisionTreeClassifier(splitter='random'), \n",
    "                           n_estimators=100, \n",
    "                           max_features=0.15,\n",
    "                           random_state=42)\n",
    "modelo.fit(Xtr, ytr)\n",
    "bag_pred = modelo.predict(Xte)\n",
    "bag_hits = bag_pred == yte\n",
    "bag_hits, sum(bag_hits)/len(bag_hits)\n"
   ]
  },
  {
   "cell_type": "code",
   "execution_count": 17,
   "metadata": {},
   "outputs": [
    {
     "data": {
      "text/plain": [
       "(array([ True,  True,  True,  True,  True,  True,  True,  True,  True,\n",
       "         True,  True,  True,  True,  True,  True,  True, False,  True,\n",
       "         True,  True,  True,  True,  True,  True,  True,  True,  True,\n",
       "         True,  True,  True,  True,  True,  True,  True,  True,  True,\n",
       "        False,  True,  True,  True, False,  True, False,  True,  True,\n",
       "         True,  True,  True,  True,  True, False,  True,  True, False,\n",
       "         True,  True,  True,  True,  True,  True,  True,  True, False,\n",
       "        False,  True,  True,  True,  True, False, False,  True,  True,\n",
       "        False,  True,  True,  True,  True,  True,  True,  True, False,\n",
       "         True,  True,  True,  True,  True,  True,  True,  True,  True,\n",
       "         True,  True,  True,  True,  True,  True,  True,  True,  True,\n",
       "         True]),\n",
       " 0.88)"
      ]
     },
     "execution_count": 17,
     "metadata": {},
     "output_type": "execute_result"
    }
   ],
   "source": [
    "#Random forest é um baggin de arvores de decisão \n",
    "\n",
    "from sklearn.ensemble import RandomForestClassifier\n",
    "modelo = RandomForestClassifier(random_state=42)\n",
    "modelo.fit(Xtr, ytr)\n",
    "rfc_pred = modelo.predict(Xte)\n",
    "rfc_hits = rfc_pred == yte\n",
    "rfc_hits, sum(rfc_hits)/len(rfc_hits)"
   ]
  },
  {
   "cell_type": "code",
   "execution_count": 18,
   "metadata": {},
   "outputs": [
    {
     "data": {
      "text/plain": [
       "(array([ True,  True,  True,  True,  True,  True,  True,  True,  True,\n",
       "         True,  True,  True,  True,  True,  True,  True,  True,  True,\n",
       "         True,  True,  True,  True,  True,  True,  True,  True,  True,\n",
       "         True,  True,  True,  True,  True,  True,  True,  True,  True,\n",
       "         True, False,  True,  True,  True,  True,  True,  True,  True,\n",
       "         True,  True,  True,  True,  True,  True,  True,  True,  True,\n",
       "         True, False,  True,  True,  True,  True,  True,  True, False,\n",
       "        False,  True,  True,  True,  True,  True,  True,  True,  True,\n",
       "         True,  True,  True,  True,  True,  True,  True,  True, False,\n",
       "         True,  True,  True,  True,  True,  True,  True,  True,  True,\n",
       "         True,  True,  True,  True,  True,  True,  True,  True,  True,\n",
       "         True]),\n",
       " 0.95)"
      ]
     },
     "execution_count": 18,
     "metadata": {},
     "output_type": "execute_result"
    }
   ],
   "source": [
    "#florestas extremamente aleatores que escolhem o tshold \n",
    "#sem nenhum parametros \n",
    "\n",
    "from sklearn.ensemble import ExtraTreesClassifier\n",
    "modelo = ExtraTreesClassifier(random_state=42)\n",
    "modelo.fit(Xtr, ytr)\n",
    "etc_pred = modelo.predict(Xte)\n",
    "etc_hits = etc_pred == yte\n",
    "etc_hits, sum(etc_hits)/len(etc_hits)"
   ]
  },
  {
   "cell_type": "code",
   "execution_count": 19,
   "metadata": {},
   "outputs": [
    {
     "data": {
      "text/plain": [
       "(array([False, False, False, False, False, False,  True, False, False,\n",
       "        False, False, False,  True, False, False, False, False, False,\n",
       "        False,  True, False, False, False, False, False, False, False,\n",
       "        False, False,  True, False,  True, False,  True, False, False,\n",
       "        False, False, False, False, False, False, False, False, False,\n",
       "         True, False,  True, False, False, False,  True, False, False,\n",
       "        False, False, False, False, False, False, False, False, False,\n",
       "        False, False, False, False, False, False, False,  True, False,\n",
       "        False, False,  True, False, False, False, False, False, False,\n",
       "        False, False, False, False, False, False, False, False, False,\n",
       "        False, False,  True, False, False, False, False,  True, False,\n",
       "        False]),\n",
       " 0.13)"
      ]
     },
     "execution_count": 19,
     "metadata": {},
     "output_type": "execute_result"
    }
   ],
   "source": [
    "#adaboost, treina um estimador com uma parte dos dados, onde ele busca os dados errados do primeiro estimador\n",
    "#dando peso para esses itens que estavam errado, gerando um novo estimador\n",
    "#o gera um novo estimador com os dados errados do segundo.. assim até o limite de estimadores\n",
    "#sem trabalhar os parametros, extramente baixo o resultado.\n",
    "\n",
    "from sklearn.ensemble import AdaBoostClassifier\n",
    "modelo = AdaBoostClassifier(random_state=42)\n",
    "modelo.fit(Xtr, ytr)\n",
    "ad_pred = modelo.predict(Xte)\n",
    "ad_hits = ad_pred == yte\n",
    "ad_hits, sum(ad_hits)/len(ad_hits)\n"
   ]
  },
  {
   "cell_type": "code",
   "execution_count": 22,
   "metadata": {},
   "outputs": [
    {
     "data": {
      "text/plain": [
       "(array([ True,  True,  True,  True,  True,  True,  True,  True,  True,\n",
       "         True,  True,  True,  True,  True,  True,  True,  True,  True,\n",
       "         True,  True,  True,  True,  True,  True,  True,  True,  True,\n",
       "         True,  True,  True,  True,  True,  True,  True,  True,  True,\n",
       "        False,  True,  True,  True, False,  True,  True,  True,  True,\n",
       "         True,  True,  True,  True,  True, False,  True,  True,  True,\n",
       "         True,  True, False,  True,  True,  True,  True,  True, False,\n",
       "        False,  True,  True,  True,  True,  True, False,  True,  True,\n",
       "         True,  True,  True,  True,  True,  True,  True,  True, False,\n",
       "         True,  True,  True,  True,  True,  True,  True,  True, False,\n",
       "         True,  True,  True,  True,  True,  True,  True,  True,  True,\n",
       "         True]),\n",
       " 0.91)"
      ]
     },
     "execution_count": 22,
     "metadata": {},
     "output_type": "execute_result"
    }
   ],
   "source": [
    "#trabalhando os parametros do adboost \n",
    "from sklearn.ensemble import AdaBoostClassifier\n",
    "modelo = AdaBoostClassifier(DecisionTreeClassifier(max_depth=25, splitter='random'),learning_rate=0.15, random_state=42)\n",
    "modelo.fit(Xtr, ytr)\n",
    "ad_pred = modelo.predict(Xte)\n",
    "ad_hits = ad_pred == yte\n",
    "ad_hits, sum(ad_hits)/len(ad_hits)\n"
   ]
  },
  {
   "cell_type": "code",
   "execution_count": 23,
   "metadata": {},
   "outputs": [
    {
     "data": {
      "text/plain": [
       "(array([ True,  True,  True,  True,  True,  True,  True,  True,  True,\n",
       "         True,  True,  True,  True,  True,  True,  True,  True,  True,\n",
       "         True,  True,  True,  True,  True,  True,  True,  True,  True,\n",
       "         True,  True,  True,  True,  True,  True,  True,  True,  True,\n",
       "         True, False,  True,  True,  True,  True,  True,  True,  True,\n",
       "         True,  True,  True,  True,  True,  True,  True,  True,  True,\n",
       "         True, False,  True,  True,  True,  True,  True,  True, False,\n",
       "        False,  True,  True,  True,  True,  True,  True,  True,  True,\n",
       "         True,  True,  True,  True,  True,  True,  True,  True, False,\n",
       "         True,  True,  True,  True,  True,  True,  True,  True,  True,\n",
       "         True,  True,  True,  True,  True,  True,  True,  True,  True,\n",
       "         True]),\n",
       " 0.95)"
      ]
     },
     "execution_count": 23,
     "metadata": {},
     "output_type": "execute_result"
    }
   ],
   "source": [
    "from sklearn.ensemble import ExtraTreesClassifier\n",
    "modelo = ExtraTreesClassifier(random_state=42)\n",
    "modelo.fit(Xtr, ytr)\n",
    "etc_pred = modelo.predict(Xte)\n",
    "etc_hits = etc_pred == yte\n",
    "etc_hits, sum(etc_hits)/len(etc_hits)"
   ]
  },
  {
   "cell_type": "code",
   "execution_count": 24,
   "metadata": {},
   "outputs": [
    {
     "data": {
      "text/plain": [
       "(array([ True,  True,  True,  True,  True,  True,  True,  True,  True,\n",
       "         True,  True,  True,  True,  True,  True,  True,  True,  True,\n",
       "         True,  True,  True,  True,  True,  True,  True,  True,  True,\n",
       "         True,  True,  True,  True,  True,  True,  True,  True,  True,\n",
       "        False, False,  True,  True,  True,  True,  True,  True,  True,\n",
       "         True,  True,  True,  True,  True,  True,  True,  True,  True,\n",
       "         True, False,  True,  True,  True,  True,  True,  True,  True,\n",
       "        False,  True, False,  True,  True, False,  True,  True,  True,\n",
       "         True,  True,  True,  True,  True,  True,  True,  True, False,\n",
       "         True,  True,  True,  True,  True,  True,  True,  True,  True,\n",
       "         True,  True,  True, False,  True,  True,  True,  True,  True,\n",
       "         True]),\n",
       " 0.92)"
      ]
     },
     "execution_count": 24,
     "metadata": {},
     "output_type": "execute_result"
    }
   ],
   "source": [
    "from sklearn.base import BaseEstimator, ClassifierMixin\n",
    "from collections import Counter\n",
    "import random\n",
    "\n",
    "random.seed(42)\n",
    "\n",
    "def maisFrequente(y):\n",
    "  return Counter(y.flat).most_common(1)[0][0]\n",
    "\n",
    "def caracteristicaValor(X):\n",
    "  feat = random.randint(0, X.shape[1]-1)\n",
    "  xmin = np.min(X[:,feat])\n",
    "  xmax = np.max(X[:,feat])\n",
    "  valor = random.random()*(xmax-xmin)+xmin\n",
    "  return feat, valor\n",
    "\n",
    "class Arvore(BaseEstimator, ClassifierMixin):\n",
    "  def fit(self, X, y):\n",
    "    self.caracteristica, self.valor = caracteristicaValor(X)\n",
    "    maiores = X[:,self.caracteristica] > self.valor\n",
    "    if sum(maiores)>0 and sum(~maiores)>0:\n",
    "      self.maiores = Arvore()\n",
    "      self.maiores.fit(X[maiores,:], y[maiores])\n",
    "      self.menores = Arvore()\n",
    "      self.menores.fit(X[~maiores,:], y[~maiores])\n",
    "    else:\n",
    "      self.resposta = maisFrequente(y)\n",
    "\n",
    "  def predict(self, X):\n",
    "    y = np.empty((X.shape[0]), dtype=np.int64)\n",
    "    if hasattr(self, \"resposta\"):\n",
    "      y[:] = self.resposta\n",
    "    else:\n",
    "      maiores = X[:,self.caracteristica] > self.valor\n",
    "      y[maiores] = self.maiores.predict(X[maiores,:])\n",
    "      y[~maiores] = self.menores.predict(X[~maiores,:])\n",
    "    return y\n",
    "\n",
    "modelo = BaggingClassifier(Arvore(), \n",
    "                           n_estimators=200,\n",
    "                           max_features=0.1,\n",
    "                           random_state=42)\n",
    "modelo.fit(Xtr, ytr)\n",
    "bag_pred = modelo.predict(Xte)\n",
    "bag_hits = bag_pred == yte\n",
    "bag_hits, sum(bag_hits)/len(bag_hits)"
   ]
  },
  {
   "cell_type": "code",
   "execution_count": 25,
   "metadata": {},
   "outputs": [
    {
     "data": {
      "text/plain": [
       "(array([ True,  True,  True,  True,  True,  True,  True,  True,  True,\n",
       "         True,  True,  True,  True,  True,  True,  True,  True,  True,\n",
       "         True,  True,  True,  True,  True,  True,  True,  True,  True,\n",
       "         True,  True,  True, False,  True,  True,  True,  True,  True,\n",
       "         True,  True,  True,  True,  True,  True,  True,  True,  True,\n",
       "         True,  True,  True,  True,  True,  True,  True,  True,  True,\n",
       "         True,  True,  True,  True,  True,  True,  True,  True,  True,\n",
       "        False,  True,  True,  True,  True, False,  True,  True,  True,\n",
       "        False,  True,  True,  True,  True,  True,  True,  True, False,\n",
       "         True,  True,  True,  True,  True,  True,  True,  True,  True,\n",
       "         True,  True,  True,  True,  True,  True,  True,  True,  True,\n",
       "         True]),\n",
       " 0.95)"
      ]
     },
     "execution_count": 25,
     "metadata": {},
     "output_type": "execute_result"
    }
   ],
   "source": [
    "import warnings\n",
    "warnings.filterwarnings('ignore')\n",
    "\n",
    "from sklearn.ensemble import StackingClassifier\n",
    "voting = VotingClassifier([\n",
    "    ('knn', KNeighborsClassifier()),\n",
    "    ('gnb', GaussianNB()),\n",
    "    ('per', Perceptron())\n",
    "])\n",
    "\n",
    "modelo = StackingClassifier([\n",
    "    ('voting', voting),\n",
    "    ('extrat', ExtraTreesClassifier()),\n",
    "    ('ranfor', RandomForestClassifier())\n",
    "], cv=3, passthrough=True)\n",
    "\n",
    "modelo.fit(Xtr, ytr)\n",
    "stack_pred = modelo.predict(Xte)\n",
    "stack_hits = stack_pred == yte\n",
    "stack_hits, sum(stack_hits)/len(stack_hits)"
   ]
  }
 ],
 "metadata": {
  "kernelspec": {
   "display_name": "Python 3.10.8 64-bit (microsoft store)",
   "language": "python",
   "name": "python3"
  },
  "language_info": {
   "codemirror_mode": {
    "name": "ipython",
    "version": 3
   },
   "file_extension": ".py",
   "mimetype": "text/x-python",
   "name": "python",
   "nbconvert_exporter": "python",
   "pygments_lexer": "ipython3",
   "version": "3.10.8"
  },
  "orig_nbformat": 4,
  "vscode": {
   "interpreter": {
    "hash": "223cb22011e754e685e545feaaff87e65af67ee462048a47fa2b1de31fda3acb"
   }
  }
 },
 "nbformat": 4,
 "nbformat_minor": 2
}
