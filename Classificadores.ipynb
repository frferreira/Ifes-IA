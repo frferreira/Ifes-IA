{
 "cells": [
  {
   "cell_type": "code",
   "execution_count": 85,
   "metadata": {},
   "outputs": [],
   "source": [
    "\n",
    "\n",
    "from sklearn.datasets import load_diabetes\n",
    "from sklearn.model_selection import cross_validate\n",
    "\n",
    "#from sklearn.linear_model import LogisticRegression\n",
    "#from secrets import randbelow\n",
    "#from sklearn.metrics import accuracy_score, make_scorer, mean_squared_error\n",
    "\n",
    "#from sklearn.model_selection import train_test_split\n",
    "\n",
    "import numpy as np\n",
    "\n",
    "ds_iris  = load_diabetes()\n",
    "\n",
    "\n",
    "X, y = ds_iris.data, ds_iris.target\n",
    "\n",
    "#X.shape, y.shape, set(y) \n"
   ]
  },
  {
   "cell_type": "code",
   "execution_count": 90,
   "metadata": {},
   "outputs": [],
   "source": [
    "from sklearn.model_selection import GridSearchCV\n",
    "from sklearn.neighbors import KNeighborsRegressor\n",
    "from sklearn.metrics import make_scorer, mean_squared_error\n",
    "\n",
    "parametros = {'n_neighbors': [3,5,7,9,11,10,12,14,16,18]}\n",
    "\n",
    "\n",
    "\n",
    "modelo = GridSearchCV(KNeighborsRegressor(10), parametros, scoring=make_scorer(mean_squared_error, greater_is_better=False, squared=False))\n",
    "modelo.fit(X, y)\n",
    "\n",
    "scores = cross_validate(modelo, X, y, scoring = make_scorer(mean_squared_error, greater_is_better=False, squared=False)  )\n",
    "\n"
   ]
  },
  {
   "cell_type": "code",
   "execution_count": 91,
   "metadata": {},
   "outputs": [
    {
     "name": "stdout",
     "output_type": "stream",
     "text": [
      "Média do Erro Quadradico: 2896.968696973982; Mediana absoluta é: 36.40625\n"
     ]
    }
   ],
   "source": [
    "#calculando a media do erro_quadrado e da acuracia  \n",
    "from sklearn.metrics import median_absolute_error, coverage_error\n",
    "from math import sqrt\n",
    "\n",
    "ypred = modelo.predict(X)\n",
    "\n",
    "#erro_quadradico\n",
    "mse = mean_squared_error(y, ypred)\n",
    "sqrt(mse)\n",
    "\n",
    "#calculando a media da acuracia \n",
    "\n",
    "msc = median_absolute_error(y, ypred)\n",
    "##sqrt(msc)\n",
    "\n",
    "print(f'Média do Erro Quadradico: {mse}; Mediana absoluta é: {msc}')\n",
    "\n"
   ]
  },
  {
   "cell_type": "code",
   "execution_count": null,
   "metadata": {},
   "outputs": [],
   "source": []
  },
  {
   "cell_type": "code",
   "execution_count": null,
   "metadata": {},
   "outputs": [],
   "source": [
    "\n"
   ]
  },
  {
   "cell_type": "code",
   "execution_count": 33,
   "metadata": {},
   "outputs": [
    {
     "data": {
      "text/plain": [
       "array([1, 2, 1, 0, 2, 1, 0, 0, 0, 1, 2, 0, 0, 0, 1, 0, 1, 2, 0, 1, 2, 0,\n",
       "       2, 2, 1, 1, 2, 1, 0, 1, 2, 0, 0, 1, 1, 0, 2, 0, 0, 1, 1, 2, 1, 2,\n",
       "       2, 1, 0, 0, 2, 2, 0, 0, 0, 1, 2, 0, 2, 2, 0, 1, 1, 2, 1, 2, 0, 2,\n",
       "       1, 2, 1, 1, 1, 0, 1, 1, 0, 1, 2, 2, 0, 1, 2, 2, 0, 2, 0, 1, 2, 2,\n",
       "       1, 2, 1, 1, 2, 2, 0, 1, 2, 0, 1, 2])"
      ]
     },
     "execution_count": 33,
     "metadata": {},
     "output_type": "execute_result"
    }
   ],
   "source": []
  },
  {
   "cell_type": "code",
   "execution_count": 58,
   "metadata": {},
   "outputs": [],
   "source": [
    "from sklearn.base import TransformerMixin\n",
    "\n",
    "class StatisticalTime(TransformerMixin):\n",
    "  '''\n",
    "  Extracts statistical features from the time domain.\n",
    "  '''\n",
    "  def fit(self, X, y=None):\n",
    "    return self\n",
    "  def transform(self, X, y=None):\n",
    "    return np.array([\n",
    "                     [\n",
    "                      rms(x), # root mean square\n",
    "                      sra(x), # square root amplitude\n",
    "                      stats.kurtosis(x), # kurtosis\n",
    "                      stats.skew(x), # skewness\n",
    "                      ppv(x), # peak to peak value\n",
    "                      cf(x), # crest factor\n",
    "                      ifa(x), # impact factor\n",
    "                      mf(x), # margin factor\n",
    "                      sf(x), # shape factor\n",
    "                      kf(x), # kurtosis factor\n",
    "                      ] for x in X[:,:]\n",
    "                     ])"
   ]
  },
  {
   "cell_type": "code",
   "execution_count": 57,
   "metadata": {},
   "outputs": [],
   "source": []
  },
  {
   "cell_type": "code",
   "execution_count": 92,
   "metadata": {},
   "outputs": [
    {
     "name": "stdout",
     "output_type": "stream",
     "text": [
      "[56.82092904 63.05450375 60.15515846 54.92728369 59.33477082]\n",
      "Com padronização: 58.858529150715086\n"
     ]
    }
   ],
   "source": [
    "from sklearn.preprocessing import StandardScaler\n",
    "from sklearn.pipeline import Pipeline\n",
    "from sklearn.neighbors import KNeighborsRegressor\n",
    "\n",
    "\n",
    "pipeline = Pipeline([\n",
    "    (\"padronização\", StandardScaler()),\n",
    "    (\"knn\", KNeighborsRegressor())\n",
    "])\n",
    "\n",
    "parametros = {'knn__n_neighbors': [3,5,7]}\n",
    "\n",
    "modelo = GridSearchCV(pipeline, parametros, scoring='neg_root_mean_squared_error')\n",
    "\n",
    "scores = cross_validate(modelo, X, y, scoring=make_scorer(mean_squared_error, squared=False))\n",
    "print(scores['test_score'])\n",
    "compad = np.mean(scores['test_score'])\n",
    "print(f\"Com padronização: {compad}\")\n",
    "\n",
    "\n",
    "#Professor estou com dificuldade de fazer definir as formas de comparações. Gostaria de comparar a Acuracia e o Erro quadratico\n",
    "# Não consegui fazer usando o modelo Logistic Regression para treinar e fazer as 10 repetições \n",
    "# a media eu até sei como calcular\n",
    "\n",
    "#gostaria de um exemplo mais claro ou um direcionamento, estou tendo dificuldades para entender o conceito dos usos dos modelos\n",
    "# e a aplicação deles. \n",
    "\n",
    "#gostaria de uma ajuda para um outro material adicional que possa me ajudar. \n",
    "\n"
   ]
  },
  {
   "cell_type": "code",
   "execution_count": null,
   "metadata": {},
   "outputs": [],
   "source": []
  }
 ],
 "metadata": {
  "kernelspec": {
   "display_name": "Python 3.10.7 64-bit (microsoft store)",
   "language": "python",
   "name": "python3"
  },
  "language_info": {
   "codemirror_mode": {
    "name": "ipython",
    "version": 3
   },
   "file_extension": ".py",
   "mimetype": "text/x-python",
   "name": "python",
   "nbconvert_exporter": "python",
   "pygments_lexer": "ipython3",
   "version": "3.10.7"
  },
  "orig_nbformat": 4,
  "vscode": {
   "interpreter": {
    "hash": "223cb22011e754e685e545feaaff87e65af67ee462048a47fa2b1de31fda3acb"
   }
  }
 },
 "nbformat": 4,
 "nbformat_minor": 2
}
